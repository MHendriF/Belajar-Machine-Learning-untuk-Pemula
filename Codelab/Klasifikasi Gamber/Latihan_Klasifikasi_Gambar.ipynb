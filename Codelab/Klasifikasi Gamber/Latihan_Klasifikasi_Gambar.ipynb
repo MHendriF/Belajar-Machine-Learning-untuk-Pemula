{
  "nbformat": 4,
  "nbformat_minor": 0,
  "metadata": {
    "colab": {
      "provenance": [],
      "authorship_tag": "ABX9TyNoFyODaaDzDWesCai3TXbN",
      "include_colab_link": true
    },
    "kernelspec": {
      "name": "python3",
      "display_name": "Python 3"
    },
    "language_info": {
      "name": "python"
    }
  },
  "cells": [
    {
      "cell_type": "markdown",
      "metadata": {
        "id": "view-in-github",
        "colab_type": "text"
      },
      "source": [
        "<a href=\"https://colab.research.google.com/github/MHendriF/Belajar-Machine-Learning-untuk-Pemula/blob/main/Codelab/Klasifikasi%20Gamber/Latihan_Klasifikasi_Gambar.ipynb\" target=\"_parent\"><img src=\"https://colab.research.google.com/assets/colab-badge.svg\" alt=\"Open In Colab\"/></a>"
      ]
    },
    {
      "cell_type": "code",
      "execution_count": null,
      "metadata": {
        "id": "H1fyI6hHOSTJ"
      },
      "outputs": [],
      "source": [
        "# Memastikan TensorFlow yang digunakan di Google Colab adalah versi di atas 2.0.\n",
        "# Mengunduh dataset dan melakukan extract file dengan metode unzip.\n",
        "# Menampung direktori setiap kelas pada direktori train dan validasi ke dalam variabel.\n",
        "# Pre-processing data dengan image augmentation.\n",
        "# Mempersiapkan data latih yang akan dipelajari oleh model.\n",
        "# Membangun arsitektur model dengan Convolutional Neural Network (CNN).\n",
        "# Compile dan latih model dengan model.compile dan model.fit hingga mendapatkan akurasi yang diinginkan.\n",
        "# Menguji model yang telah dibuat dengan menggunakan gambar yang belum dikenali oleh model."
      ]
    },
    {
      "cell_type": "code",
      "source": [
        "import tensorflow as tf\n",
        "print(tf.__version__)"
      ],
      "metadata": {
        "colab": {
          "base_uri": "https://localhost:8080/"
        },
        "id": "di9DRb4qOt-R",
        "outputId": "5163c87a-5de5-4548-c82f-9ea3e977b0fa"
      },
      "execution_count": 1,
      "outputs": [
        {
          "output_type": "stream",
          "name": "stdout",
          "text": [
            "2.15.0\n"
          ]
        }
      ]
    }
  ]
}